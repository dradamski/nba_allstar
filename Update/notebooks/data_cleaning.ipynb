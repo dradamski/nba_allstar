{
 "cells": [
  {
   "cell_type": "code",
   "execution_count": 3,
   "metadata": {},
   "outputs": [],
   "source": [
    "%load_ext autoreload\n",
    "%autoreload 2\n",
    "\n",
    "import os\n",
    "import sys\n",
    "module_path = os.path.abspath(os.path.join('..', 'bball_code'))\n",
    "if module_path not in sys.path:\n",
    "    sys.path.append(module_path)\n",
    "sys.path.append('/Users/drewadamski/Desktop/capstone-one-master/Update/Data')"
   ]
  },
  {
   "cell_type": "code",
   "execution_count": 4,
   "metadata": {},
   "outputs": [],
   "source": [
    "import matplotlib.pyplot as plt\n",
    "import numpy as np\n",
    "import pandas as pd\n",
    "import seaborn as sns"
   ]
  },
  {
   "cell_type": "code",
   "execution_count": 5,
   "metadata": {},
   "outputs": [],
   "source": [
    "advanced = pd.read_csv(sys.path[-1]+'/super_advanced.csv', index_col=0)\n",
    "all_season = pd.read_csv(sys.path[-1]+'/all_season.csv', index_col=0)"
   ]
  },
  {
   "cell_type": "code",
   "execution_count": 6,
   "metadata": {},
   "outputs": [
    {
     "data": {
      "text/plain": [
       "((14760, 58), (11583, 34))"
      ]
     },
     "execution_count": 6,
     "metadata": {},
     "output_type": "execute_result"
    }
   ],
   "source": [
    "advanced.shape, all_season.shape"
   ]
  },
  {
   "cell_type": "code",
   "execution_count": 7,
   "metadata": {},
   "outputs": [],
   "source": [
    "allseason = all_season[all_season.Season > 1999].copy()\n",
    "advanced = advanced[advanced.Season > 1999].copy()"
   ]
  },
  {
   "cell_type": "code",
   "execution_count": 8,
   "metadata": {},
   "outputs": [
    {
     "data": {
      "text/plain": [
       "((11583, 34), (11583, 58))"
      ]
     },
     "execution_count": 8,
     "metadata": {},
     "output_type": "execute_result"
    }
   ],
   "source": [
    "allseason.shape, advanced.shape"
   ]
  },
  {
   "cell_type": "code",
   "execution_count": 9,
   "metadata": {},
   "outputs": [],
   "source": [
    "allstar_next = pd.DataFrame()\n",
    "for player in all_season.Player.unique():\n",
    "    playdf = all_season[all_season.Player == player]\n",
    "    playallstar_next = playdf.allstar[1:]\n",
    "    playallstar_next = pd.concat([playallstar_next, pd.Series([0])])\n",
    "    playallstar_next.index = playdf.index\n",
    "    allstar_next = pd.concat([allstar_next, playallstar_next])\n",
    "allseason['allstar_next'] = allstar_next"
   ]
  },
  {
   "cell_type": "code",
   "execution_count": 10,
   "metadata": {},
   "outputs": [],
   "source": [
    "# all_no_19 = all_season[all_season.Season != 2019]\n",
    "# adv_no_19 = advanced[advanced.Season != 2019]\n",
    "\n",
    "# all_19 = all_season[all_season.Season == 2019]\n",
    "# adv_19 = advanced[advanced.Season == 2019]"
   ]
  },
  {
   "cell_type": "code",
   "execution_count": 11,
   "metadata": {},
   "outputs": [
    {
     "data": {
      "text/plain": [
       "((11583, 35), (11583, 58))"
      ]
     },
     "execution_count": 11,
     "metadata": {},
     "output_type": "execute_result"
    }
   ],
   "source": [
    "allseason.shape, advanced.shape"
   ]
  },
  {
   "cell_type": "code",
   "execution_count": 12,
   "metadata": {},
   "outputs": [],
   "source": [
    "df = pd.merge(allseason, advanced, \n",
    "              on=['href','Season', 'Tm', 'Player', 'Lg', 'Age', 'Pos'],\n",
    "              suffixes=('_pg', '_sup')\n",
    "             )"
   ]
  },
  {
   "cell_type": "code",
   "execution_count": 13,
   "metadata": {},
   "outputs": [],
   "source": [
    "def column_check(df):\n",
    "    for col in df:\n",
    "        for col2 in df:\n",
    "            if (col.split('_')[0] == col2.split('_')[0]) & (col != col2):\n",
    "                yield [col, col2]"
   ]
  },
  {
   "cell_type": "code",
   "execution_count": 14,
   "metadata": {},
   "outputs": [],
   "source": [
    "x = column_check(df)"
   ]
  },
  {
   "cell_type": "code",
   "execution_count": 15,
   "metadata": {},
   "outputs": [],
   "source": [
    "# # went through to check which columns were the same\n",
    "# test_cols = ['Season', 'Player', 'Tm', 'Lg']+ next(x)\n",
    "\n",
    "# df[test_cols].head(20)"
   ]
  },
  {
   "cell_type": "code",
   "execution_count": 16,
   "metadata": {},
   "outputs": [],
   "source": [
    "drop_cols = ['G_per100', 'G_adv', 'GS_sup', 'MP_per100', \n",
    "             'FG%_sup', '3P%_pg', '2P%_pg', 'FT%_pg',\n",
    "             '_per100', '_adv', '_adv.1'\n",
    "            ]\n",
    "\n"
   ]
  },
  {
   "cell_type": "code",
   "execution_count": 17,
   "metadata": {},
   "outputs": [],
   "source": [
    "df.drop(labels=drop_cols, axis=1, inplace=True)"
   ]
  },
  {
   "cell_type": "code",
   "execution_count": 18,
   "metadata": {},
   "outputs": [],
   "source": [
    "df.reset_index(drop=True, inplace=True)\n",
    "df.fillna(0, inplace=True)"
   ]
  },
  {
   "cell_type": "code",
   "execution_count": 19,
   "metadata": {
    "scrolled": true
   },
   "outputs": [
    {
     "name": "stdout",
     "output_type": "stream",
     "text": [
      "<class 'pandas.core.frame.DataFrame'>\n",
      "RangeIndex: 11583 entries, 0 to 11582\n",
      "Data columns (total 75 columns):\n",
      " #   Column        Non-Null Count  Dtype  \n",
      "---  ------        --------------  -----  \n",
      " 0   Season        11583 non-null  int64  \n",
      " 1   Age           11583 non-null  float64\n",
      " 2   Tm            11583 non-null  object \n",
      " 3   Lg            11583 non-null  object \n",
      " 4   Pos           11583 non-null  object \n",
      " 5   G             11583 non-null  float64\n",
      " 6   GS_pg         11583 non-null  float64\n",
      " 7   MP            11583 non-null  float64\n",
      " 8   FG_pg         11583 non-null  float64\n",
      " 9   FGA_pg        11583 non-null  float64\n",
      " 10  FG%_pg        11583 non-null  float64\n",
      " 11  3P_pg         11583 non-null  float64\n",
      " 12  3PA_pg        11583 non-null  float64\n",
      " 13  2P_pg         11583 non-null  float64\n",
      " 14  2PA_pg        11583 non-null  float64\n",
      " 15  eFG%          11583 non-null  float64\n",
      " 16  FT_pg         11583 non-null  float64\n",
      " 17  FTA_pg        11583 non-null  float64\n",
      " 18  ORB_pg        11583 non-null  float64\n",
      " 19  DRB_pg        11583 non-null  float64\n",
      " 20  TRB_pg        11583 non-null  float64\n",
      " 21  AST_pg        11583 non-null  float64\n",
      " 22  STL_pg        11583 non-null  float64\n",
      " 23  BLK_pg        11583 non-null  float64\n",
      " 24  TOV_pg        11583 non-null  float64\n",
      " 25  PF_pg         11583 non-null  float64\n",
      " 26  PTS_pg        11583 non-null  float64\n",
      " 27  Height        11583 non-null  int64  \n",
      " 28  href          11583 non-null  object \n",
      " 29  Player        11583 non-null  object \n",
      " 30  allstar       11583 non-null  int64  \n",
      " 31  allstar_next  11583 non-null  float64\n",
      " 32  FG_sup        11583 non-null  float64\n",
      " 33  FGA_sup       11583 non-null  float64\n",
      " 34  3P_sup        11583 non-null  float64\n",
      " 35  3PA_sup       11583 non-null  float64\n",
      " 36  3P%_sup       11583 non-null  float64\n",
      " 37  2P_sup        11583 non-null  float64\n",
      " 38  2PA_sup       11583 non-null  float64\n",
      " 39  2P%_sup       11583 non-null  float64\n",
      " 40  FT_sup        11583 non-null  float64\n",
      " 41  FTA_sup       11583 non-null  float64\n",
      " 42  FT%_sup       11583 non-null  float64\n",
      " 43  ORB_sup       11583 non-null  float64\n",
      " 44  DRB_sup       11583 non-null  float64\n",
      " 45  TRB_sup       11583 non-null  float64\n",
      " 46  AST_sup       11583 non-null  float64\n",
      " 47  STL_sup       11583 non-null  float64\n",
      " 48  BLK_sup       11583 non-null  float64\n",
      " 49  TOV_sup       11583 non-null  float64\n",
      " 50  PF_sup        11583 non-null  float64\n",
      " 51  PTS_sup       11583 non-null  float64\n",
      " 52  ORtg          11583 non-null  float64\n",
      " 53  DRtg          11583 non-null  float64\n",
      " 54  MP_adv        11583 non-null  int64  \n",
      " 55  PER           11583 non-null  float64\n",
      " 56  TS%           11583 non-null  float64\n",
      " 57  3PAr          11583 non-null  float64\n",
      " 58  FTr           11583 non-null  float64\n",
      " 59  ORB%          11583 non-null  float64\n",
      " 60  DRB%          11583 non-null  float64\n",
      " 61  TRB%          11583 non-null  float64\n",
      " 62  AST%          11583 non-null  float64\n",
      " 63  STL%          11583 non-null  float64\n",
      " 64  BLK%          11583 non-null  float64\n",
      " 65  TOV%          11583 non-null  float64\n",
      " 66  USG%          11583 non-null  float64\n",
      " 67  OWS           11583 non-null  float64\n",
      " 68  DWS           11583 non-null  float64\n",
      " 69  WS            11583 non-null  float64\n",
      " 70  WS/48         11583 non-null  float64\n",
      " 71  OBPM          11583 non-null  float64\n",
      " 72  DBPM          11583 non-null  float64\n",
      " 73  BPM           11583 non-null  float64\n",
      " 74  VORP          11583 non-null  float64\n",
      "dtypes: float64(66), int64(4), object(5)\n",
      "memory usage: 6.6+ MB\n"
     ]
    }
   ],
   "source": [
    "df.info()"
   ]
  },
  {
   "cell_type": "code",
   "execution_count": 20,
   "metadata": {
    "scrolled": true
   },
   "outputs": [
    {
     "data": {
      "text/html": [
       "<div>\n",
       "<style scoped>\n",
       "    .dataframe tbody tr th:only-of-type {\n",
       "        vertical-align: middle;\n",
       "    }\n",
       "\n",
       "    .dataframe tbody tr th {\n",
       "        vertical-align: top;\n",
       "    }\n",
       "\n",
       "    .dataframe thead th {\n",
       "        text-align: right;\n",
       "    }\n",
       "</style>\n",
       "<table border=\"1\" class=\"dataframe\">\n",
       "  <thead>\n",
       "    <tr style=\"text-align: right;\">\n",
       "      <th></th>\n",
       "      <th>Season</th>\n",
       "      <th>Age</th>\n",
       "      <th>G</th>\n",
       "      <th>GS_pg</th>\n",
       "      <th>MP</th>\n",
       "      <th>FG_pg</th>\n",
       "      <th>FGA_pg</th>\n",
       "      <th>FG%_pg</th>\n",
       "      <th>3P_pg</th>\n",
       "      <th>3PA_pg</th>\n",
       "      <th>...</th>\n",
       "      <th>TOV%</th>\n",
       "      <th>USG%</th>\n",
       "      <th>OWS</th>\n",
       "      <th>DWS</th>\n",
       "      <th>WS</th>\n",
       "      <th>WS/48</th>\n",
       "      <th>OBPM</th>\n",
       "      <th>DBPM</th>\n",
       "      <th>BPM</th>\n",
       "      <th>VORP</th>\n",
       "    </tr>\n",
       "  </thead>\n",
       "  <tbody>\n",
       "    <tr>\n",
       "      <th>count</th>\n",
       "      <td>11583.000000</td>\n",
       "      <td>11583.000000</td>\n",
       "      <td>11583.000000</td>\n",
       "      <td>11583.000000</td>\n",
       "      <td>11583.000000</td>\n",
       "      <td>11583.000000</td>\n",
       "      <td>11583.000000</td>\n",
       "      <td>11583.000000</td>\n",
       "      <td>11583.000000</td>\n",
       "      <td>11583.000000</td>\n",
       "      <td>...</td>\n",
       "      <td>11583.000000</td>\n",
       "      <td>11583.000000</td>\n",
       "      <td>11583.000000</td>\n",
       "      <td>11583.000000</td>\n",
       "      <td>11583.000000</td>\n",
       "      <td>11583.000000</td>\n",
       "      <td>11583.000000</td>\n",
       "      <td>11583.000000</td>\n",
       "      <td>11583.000000</td>\n",
       "      <td>11583.000000</td>\n",
       "    </tr>\n",
       "    <tr>\n",
       "      <th>mean</th>\n",
       "      <td>2009.800397</td>\n",
       "      <td>26.750065</td>\n",
       "      <td>47.019425</td>\n",
       "      <td>22.305707</td>\n",
       "      <td>19.786774</td>\n",
       "      <td>2.944867</td>\n",
       "      <td>6.629984</td>\n",
       "      <td>0.430306</td>\n",
       "      <td>0.581818</td>\n",
       "      <td>1.671709</td>\n",
       "      <td>...</td>\n",
       "      <td>13.985021</td>\n",
       "      <td>18.593965</td>\n",
       "      <td>1.165985</td>\n",
       "      <td>1.099370</td>\n",
       "      <td>2.266373</td>\n",
       "      <td>0.067948</td>\n",
       "      <td>-1.723215</td>\n",
       "      <td>-0.218665</td>\n",
       "      <td>-1.941967</td>\n",
       "      <td>0.527238</td>\n",
       "    </tr>\n",
       "    <tr>\n",
       "      <th>std</th>\n",
       "      <td>5.714276</td>\n",
       "      <td>4.244019</td>\n",
       "      <td>26.104142</td>\n",
       "      <td>27.479464</td>\n",
       "      <td>9.919723</td>\n",
       "      <td>2.123137</td>\n",
       "      <td>4.526614</td>\n",
       "      <td>0.105646</td>\n",
       "      <td>0.683252</td>\n",
       "      <td>1.798888</td>\n",
       "      <td>...</td>\n",
       "      <td>6.844529</td>\n",
       "      <td>5.439832</td>\n",
       "      <td>1.936975</td>\n",
       "      <td>1.146803</td>\n",
       "      <td>2.811712</td>\n",
       "      <td>0.104881</td>\n",
       "      <td>10.199959</td>\n",
       "      <td>1.841053</td>\n",
       "      <td>10.642305</td>\n",
       "      <td>1.241201</td>\n",
       "    </tr>\n",
       "    <tr>\n",
       "      <th>min</th>\n",
       "      <td>2000.000000</td>\n",
       "      <td>18.000000</td>\n",
       "      <td>1.000000</td>\n",
       "      <td>0.000000</td>\n",
       "      <td>0.000000</td>\n",
       "      <td>0.000000</td>\n",
       "      <td>0.000000</td>\n",
       "      <td>0.000000</td>\n",
       "      <td>0.000000</td>\n",
       "      <td>0.000000</td>\n",
       "      <td>...</td>\n",
       "      <td>0.000000</td>\n",
       "      <td>0.000000</td>\n",
       "      <td>-3.300000</td>\n",
       "      <td>-0.600000</td>\n",
       "      <td>-2.100000</td>\n",
       "      <td>-1.521000</td>\n",
       "      <td>-1000.000000</td>\n",
       "      <td>-31.100000</td>\n",
       "      <td>-1000.000000</td>\n",
       "      <td>-2.000000</td>\n",
       "    </tr>\n",
       "    <tr>\n",
       "      <th>25%</th>\n",
       "      <td>2005.000000</td>\n",
       "      <td>23.000000</td>\n",
       "      <td>24.000000</td>\n",
       "      <td>0.000000</td>\n",
       "      <td>11.700000</td>\n",
       "      <td>1.300000</td>\n",
       "      <td>3.100000</td>\n",
       "      <td>0.393000</td>\n",
       "      <td>0.000000</td>\n",
       "      <td>0.100000</td>\n",
       "      <td>...</td>\n",
       "      <td>10.500000</td>\n",
       "      <td>15.000000</td>\n",
       "      <td>0.000000</td>\n",
       "      <td>0.200000</td>\n",
       "      <td>0.200000</td>\n",
       "      <td>0.032000</td>\n",
       "      <td>-3.300000</td>\n",
       "      <td>-1.050000</td>\n",
       "      <td>-3.600000</td>\n",
       "      <td>-0.100000</td>\n",
       "    </tr>\n",
       "    <tr>\n",
       "      <th>50%</th>\n",
       "      <td>2010.000000</td>\n",
       "      <td>26.000000</td>\n",
       "      <td>51.000000</td>\n",
       "      <td>8.000000</td>\n",
       "      <td>19.100000</td>\n",
       "      <td>2.400000</td>\n",
       "      <td>5.500000</td>\n",
       "      <td>0.434000</td>\n",
       "      <td>0.300000</td>\n",
       "      <td>1.100000</td>\n",
       "      <td>...</td>\n",
       "      <td>13.200000</td>\n",
       "      <td>18.200000</td>\n",
       "      <td>0.400000</td>\n",
       "      <td>0.700000</td>\n",
       "      <td>1.300000</td>\n",
       "      <td>0.077000</td>\n",
       "      <td>-1.400000</td>\n",
       "      <td>-0.200000</td>\n",
       "      <td>-1.500000</td>\n",
       "      <td>0.100000</td>\n",
       "    </tr>\n",
       "    <tr>\n",
       "      <th>75%</th>\n",
       "      <td>2015.000000</td>\n",
       "      <td>30.000000</td>\n",
       "      <td>72.000000</td>\n",
       "      <td>41.000000</td>\n",
       "      <td>27.800000</td>\n",
       "      <td>4.100000</td>\n",
       "      <td>9.200000</td>\n",
       "      <td>0.478000</td>\n",
       "      <td>1.000000</td>\n",
       "      <td>2.800000</td>\n",
       "      <td>...</td>\n",
       "      <td>16.400000</td>\n",
       "      <td>21.900000</td>\n",
       "      <td>1.800000</td>\n",
       "      <td>1.600000</td>\n",
       "      <td>3.500000</td>\n",
       "      <td>0.117000</td>\n",
       "      <td>0.300000</td>\n",
       "      <td>0.700000</td>\n",
       "      <td>0.400000</td>\n",
       "      <td>0.800000</td>\n",
       "    </tr>\n",
       "    <tr>\n",
       "      <th>max</th>\n",
       "      <td>2019.000000</td>\n",
       "      <td>44.000000</td>\n",
       "      <td>85.000000</td>\n",
       "      <td>83.000000</td>\n",
       "      <td>43.700000</td>\n",
       "      <td>12.200000</td>\n",
       "      <td>27.800000</td>\n",
       "      <td>1.000000</td>\n",
       "      <td>5.100000</td>\n",
       "      <td>13.200000</td>\n",
       "      <td>...</td>\n",
       "      <td>100.000000</td>\n",
       "      <td>53.700000</td>\n",
       "      <td>14.800000</td>\n",
       "      <td>9.100000</td>\n",
       "      <td>20.300000</td>\n",
       "      <td>2.712000</td>\n",
       "      <td>199.400000</td>\n",
       "      <td>42.700000</td>\n",
       "      <td>242.200000</td>\n",
       "      <td>11.800000</td>\n",
       "    </tr>\n",
       "  </tbody>\n",
       "</table>\n",
       "<p>8 rows × 70 columns</p>\n",
       "</div>"
      ],
      "text/plain": [
       "             Season           Age             G         GS_pg            MP  \\\n",
       "count  11583.000000  11583.000000  11583.000000  11583.000000  11583.000000   \n",
       "mean    2009.800397     26.750065     47.019425     22.305707     19.786774   \n",
       "std        5.714276      4.244019     26.104142     27.479464      9.919723   \n",
       "min     2000.000000     18.000000      1.000000      0.000000      0.000000   \n",
       "25%     2005.000000     23.000000     24.000000      0.000000     11.700000   \n",
       "50%     2010.000000     26.000000     51.000000      8.000000     19.100000   \n",
       "75%     2015.000000     30.000000     72.000000     41.000000     27.800000   \n",
       "max     2019.000000     44.000000     85.000000     83.000000     43.700000   \n",
       "\n",
       "              FG_pg        FGA_pg        FG%_pg         3P_pg        3PA_pg  \\\n",
       "count  11583.000000  11583.000000  11583.000000  11583.000000  11583.000000   \n",
       "mean       2.944867      6.629984      0.430306      0.581818      1.671709   \n",
       "std        2.123137      4.526614      0.105646      0.683252      1.798888   \n",
       "min        0.000000      0.000000      0.000000      0.000000      0.000000   \n",
       "25%        1.300000      3.100000      0.393000      0.000000      0.100000   \n",
       "50%        2.400000      5.500000      0.434000      0.300000      1.100000   \n",
       "75%        4.100000      9.200000      0.478000      1.000000      2.800000   \n",
       "max       12.200000     27.800000      1.000000      5.100000     13.200000   \n",
       "\n",
       "       ...          TOV%          USG%           OWS           DWS  \\\n",
       "count  ...  11583.000000  11583.000000  11583.000000  11583.000000   \n",
       "mean   ...     13.985021     18.593965      1.165985      1.099370   \n",
       "std    ...      6.844529      5.439832      1.936975      1.146803   \n",
       "min    ...      0.000000      0.000000     -3.300000     -0.600000   \n",
       "25%    ...     10.500000     15.000000      0.000000      0.200000   \n",
       "50%    ...     13.200000     18.200000      0.400000      0.700000   \n",
       "75%    ...     16.400000     21.900000      1.800000      1.600000   \n",
       "max    ...    100.000000     53.700000     14.800000      9.100000   \n",
       "\n",
       "                 WS         WS/48          OBPM          DBPM           BPM  \\\n",
       "count  11583.000000  11583.000000  11583.000000  11583.000000  11583.000000   \n",
       "mean       2.266373      0.067948     -1.723215     -0.218665     -1.941967   \n",
       "std        2.811712      0.104881     10.199959      1.841053     10.642305   \n",
       "min       -2.100000     -1.521000  -1000.000000    -31.100000  -1000.000000   \n",
       "25%        0.200000      0.032000     -3.300000     -1.050000     -3.600000   \n",
       "50%        1.300000      0.077000     -1.400000     -0.200000     -1.500000   \n",
       "75%        3.500000      0.117000      0.300000      0.700000      0.400000   \n",
       "max       20.300000      2.712000    199.400000     42.700000    242.200000   \n",
       "\n",
       "               VORP  \n",
       "count  11583.000000  \n",
       "mean       0.527238  \n",
       "std        1.241201  \n",
       "min       -2.000000  \n",
       "25%       -0.100000  \n",
       "50%        0.100000  \n",
       "75%        0.800000  \n",
       "max       11.800000  \n",
       "\n",
       "[8 rows x 70 columns]"
      ]
     },
     "execution_count": 20,
     "metadata": {},
     "output_type": "execute_result"
    }
   ],
   "source": [
    "df.describe()"
   ]
  },
  {
   "cell_type": "code",
   "execution_count": 21,
   "metadata": {
    "scrolled": false
   },
   "outputs": [
    {
     "data": {
      "text/plain": [
       "Index(['Season', 'Age', 'Tm', 'Lg', 'Pos', 'G', 'GS_pg', 'MP', 'FG_pg',\n",
       "       'FGA_pg', 'FG%_pg', '3P_pg', '3PA_pg', '2P_pg', '2PA_pg', 'eFG%',\n",
       "       'FT_pg', 'FTA_pg', 'ORB_pg', 'DRB_pg', 'TRB_pg', 'AST_pg', 'STL_pg',\n",
       "       'BLK_pg', 'TOV_pg', 'PF_pg', 'PTS_pg', 'Height', 'href', 'Player',\n",
       "       'allstar', 'allstar_next', 'FG_sup', 'FGA_sup', '3P_sup', '3PA_sup',\n",
       "       '3P%_sup', '2P_sup', '2PA_sup', '2P%_sup', 'FT_sup', 'FTA_sup',\n",
       "       'FT%_sup', 'ORB_sup', 'DRB_sup', 'TRB_sup', 'AST_sup', 'STL_sup',\n",
       "       'BLK_sup', 'TOV_sup', 'PF_sup', 'PTS_sup', 'ORtg', 'DRtg', 'MP_adv',\n",
       "       'PER', 'TS%', '3PAr', 'FTr', 'ORB%', 'DRB%', 'TRB%', 'AST%', 'STL%',\n",
       "       'BLK%', 'TOV%', 'USG%', 'OWS', 'DWS', 'WS', 'WS/48', 'OBPM', 'DBPM',\n",
       "       'BPM', 'VORP'],\n",
       "      dtype='object')"
      ]
     },
     "execution_count": 21,
     "metadata": {},
     "output_type": "execute_result"
    }
   ],
   "source": [
    "df.columns"
   ]
  },
  {
   "cell_type": "code",
   "execution_count": 22,
   "metadata": {},
   "outputs": [],
   "source": [
    "df.columns = map(str.lower, df.columns)"
   ]
  },
  {
   "cell_type": "code",
   "execution_count": 23,
   "metadata": {},
   "outputs": [
    {
     "data": {
      "text/plain": [
       "Index(['season', 'age', 'tm', 'lg', 'pos', 'g', 'gs_pg', 'mp', 'fg_pg',\n",
       "       'fga_pg', 'fg%_pg', '3p_pg', '3pa_pg', '2p_pg', '2pa_pg', 'efg%',\n",
       "       'ft_pg', 'fta_pg', 'orb_pg', 'drb_pg', 'trb_pg', 'ast_pg', 'stl_pg',\n",
       "       'blk_pg', 'tov_pg', 'pf_pg', 'pts_pg', 'height', 'href', 'player',\n",
       "       'allstar', 'allstar_next', 'fg_sup', 'fga_sup', '3p_sup', '3pa_sup',\n",
       "       '3p%_sup', '2p_sup', '2pa_sup', '2p%_sup', 'ft_sup', 'fta_sup',\n",
       "       'ft%_sup', 'orb_sup', 'drb_sup', 'trb_sup', 'ast_sup', 'stl_sup',\n",
       "       'blk_sup', 'tov_sup', 'pf_sup', 'pts_sup', 'ortg', 'drtg', 'mp_adv',\n",
       "       'per', 'ts%', '3par', 'ftr', 'orb%', 'drb%', 'trb%', 'ast%', 'stl%',\n",
       "       'blk%', 'tov%', 'usg%', 'ows', 'dws', 'ws', 'ws/48', 'obpm', 'dbpm',\n",
       "       'bpm', 'vorp'],\n",
       "      dtype='object')"
      ]
     },
     "execution_count": 23,
     "metadata": {},
     "output_type": "execute_result"
    }
   ],
   "source": [
    "df.columns"
   ]
  },
  {
   "cell_type": "code",
   "execution_count": 24,
   "metadata": {},
   "outputs": [],
   "source": [
    "rename_cols = {'fg_sup':'fg_100', \n",
    "               'fga_sup':'fg_att_100',\n",
    "               'fg%_pg':'fg_pct', \n",
    "               'mp_adv':'mp_tot',\n",
    "               'mp':'mp_pg',\n",
    "               'gs_pg':'gs',\n",
    "               '3p_pg':'three_pg',\n",
    "               '3p_sup':'three_100',\n",
    "               '3pa_pg':'three_att_pg',\n",
    "               '3pa_sup':'three_att_100',\n",
    "               '3p%_sup':'three_pct',\n",
    "               '2p_pg':'two_pg', \n",
    "               '2p_sup':'two_100',\n",
    "               '2pa_pg':'two_att_pg', \n",
    "               'efg%':'efg_pct',\n",
    "               '2pa_sup':'two_att_100',\n",
    "               '2p%_sup':'two_pct', \n",
    "               'ft_sup':'ft_100',\n",
    "               'fta_pg':'ft_att_pg', \n",
    "               'fta_sup':'ft_att_100',\n",
    "               'ft%_sup':'ft_pct', \n",
    "               'orb_sup':'orb_100',\n",
    "               'drb_sup':'drb_100', \n",
    "               'trb_sup':'trb_100',\n",
    "               'ast_sup':'ast_100', \n",
    "               'stl_sup':'stl_100',\n",
    "               'blk_sup':'blk_100', \n",
    "               'tov_sup':'tov_100',\n",
    "               'pf_sup':'pf_100', \n",
    "               'pts_sup':'pts_100',\n",
    "               'ts%':'ts_pct',\n",
    "               '3par':'three_rate',\n",
    "               'ftr':'ft_rate',\n",
    "               'orb%':'orb_pct',\n",
    "               'drb%':'drb_pct',\n",
    "               'trb%':'trb_pct',\n",
    "               'ast%':'ast_pct',\n",
    "               'stl%':'stl_pct',\n",
    "               'blk%':'blk_pct',\n",
    "               'tov%':'tov_pct',\n",
    "               'usg%':'usg_pct',\n",
    "               'ws/48':'ws_48',\n",
    "              }"
   ]
  },
  {
   "cell_type": "code",
   "execution_count": 25,
   "metadata": {},
   "outputs": [],
   "source": [
    "df.rename(columns=rename_cols, \n",
    "          inplace=True\n",
    "         )"
   ]
  },
  {
   "cell_type": "code",
   "execution_count": 26,
   "metadata": {},
   "outputs": [
    {
     "data": {
      "text/plain": [
       "Index(['season', 'age', 'tm', 'lg', 'pos', 'g', 'gs', 'mp_pg', 'fg_pg',\n",
       "       'fga_pg', 'fg_pct', 'three_pg', 'three_att_pg', 'two_pg', 'two_att_pg',\n",
       "       'efg_pct', 'ft_pg', 'ft_att_pg', 'orb_pg', 'drb_pg', 'trb_pg', 'ast_pg',\n",
       "       'stl_pg', 'blk_pg', 'tov_pg', 'pf_pg', 'pts_pg', 'height', 'href',\n",
       "       'player', 'allstar', 'allstar_next', 'fg_100', 'fg_att_100',\n",
       "       'three_100', 'three_att_100', 'three_pct', 'two_100', 'two_att_100',\n",
       "       'two_pct', 'ft_100', 'ft_att_100', 'ft_pct', 'orb_100', 'drb_100',\n",
       "       'trb_100', 'ast_100', 'stl_100', 'blk_100', 'tov_100', 'pf_100',\n",
       "       'pts_100', 'ortg', 'drtg', 'mp_tot', 'per', 'ts_pct', 'three_rate',\n",
       "       'ft_rate', 'orb_pct', 'drb_pct', 'trb_pct', 'ast_pct', 'stl_pct',\n",
       "       'blk_pct', 'tov_pct', 'usg_pct', 'ows', 'dws', 'ws', 'ws_48', 'obpm',\n",
       "       'dbpm', 'bpm', 'vorp'],\n",
       "      dtype='object')"
      ]
     },
     "execution_count": 26,
     "metadata": {},
     "output_type": "execute_result"
    }
   ],
   "source": [
    "df.columns"
   ]
  },
  {
   "cell_type": "code",
   "execution_count": 27,
   "metadata": {
    "scrolled": true
   },
   "outputs": [],
   "source": [
    "traded = df[(df.duplicated(['season', 'href'],\n",
    "                              keep=False)\n",
    "         )\n",
    "        ][df[(df.duplicated(['season', 'href'],\n",
    "                                          keep=False)\n",
    "                     )\n",
    "                    ].tm != 'TOT'].index"
   ]
  },
  {
   "cell_type": "code",
   "execution_count": 28,
   "metadata": {},
   "outputs": [
    {
     "data": {
      "text/plain": [
       "(11583, 75)"
      ]
     },
     "execution_count": 28,
     "metadata": {},
     "output_type": "execute_result"
    }
   ],
   "source": [
    "df.shape"
   ]
  },
  {
   "cell_type": "code",
   "execution_count": 29,
   "metadata": {},
   "outputs": [],
   "source": [
    "df.drop(labels=traded, inplace=True)"
   ]
  },
  {
   "cell_type": "code",
   "execution_count": 30,
   "metadata": {},
   "outputs": [],
   "source": [
    "df.reset_index(drop=True, inplace=True)"
   ]
  },
  {
   "cell_type": "code",
   "execution_count": 31,
   "metadata": {
    "scrolled": false
   },
   "outputs": [
    {
     "data": {
      "text/plain": [
       "(9273, 75)"
      ]
     },
     "execution_count": 31,
     "metadata": {},
     "output_type": "execute_result"
    }
   ],
   "source": [
    "df.shape"
   ]
  },
  {
   "cell_type": "code",
   "execution_count": 32,
   "metadata": {
    "scrolled": true
   },
   "outputs": [],
   "source": [
    "pos_dict = {'SG-PG':'PG-SG',\n",
    "            'SF-SG':'SG-SF',\n",
    "            'PF-SF':'SF-PF',\n",
    "            'C-PF':'PF-C'\n",
    "           }\n",
    "df.replace({'pos':pos_dict}, inplace=True)"
   ]
  },
  {
   "cell_type": "code",
   "execution_count": 33,
   "metadata": {},
   "outputs": [
    {
     "data": {
      "text/plain": [
       "array(['C', 'PF', 'PF-C', 'SF', 'PG', 'SG', 'SG-SF', 'SG-PF', 'SF-PF',\n",
       "       'PG-SG', 'PG-SF'], dtype=object)"
      ]
     },
     "execution_count": 33,
     "metadata": {},
     "output_type": "execute_result"
    }
   ],
   "source": [
    "df.pos.unique()"
   ]
  },
  {
   "cell_type": "code",
   "execution_count": 35,
   "metadata": {},
   "outputs": [],
   "source": [
    "df.to_csv(sys.path[-1]+'/cleaned_data.csv')"
   ]
  }
 ],
 "metadata": {
  "kernelspec": {
   "display_name": "Python 3",
   "language": "python",
   "name": "python3"
  },
  "language_info": {
   "codemirror_mode": {
    "name": "ipython",
    "version": 3
   },
   "file_extension": ".py",
   "mimetype": "text/x-python",
   "name": "python",
   "nbconvert_exporter": "python",
   "pygments_lexer": "ipython3",
   "version": "3.7.6"
  }
 },
 "nbformat": 4,
 "nbformat_minor": 2
}
