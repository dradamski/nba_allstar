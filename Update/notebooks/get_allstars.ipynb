{
 "cells": [
  {
   "cell_type": "code",
   "execution_count": 1,
   "metadata": {},
   "outputs": [],
   "source": [
    "%load_ext autoreload\n",
    "%autoreload 2\n",
    "\n",
    "import os\n",
    "import sys\n",
    "module_path = os.path.abspath(os.path.join('..', 'bball_code'))\n",
    "if module_path not in sys.path:\n",
    "    sys.path.append(module_path)\n",
    "sys.path.append('/Users/drewadamski/Desktop/capstone-one-master/Update/Data')"
   ]
  },
  {
   "cell_type": "code",
   "execution_count": 2,
   "metadata": {},
   "outputs": [],
   "source": [
    "from bs4 import BeautifulSoup\n",
    "import pandas as pd\n",
    "import urllib.request"
   ]
  },
  {
   "cell_type": "code",
   "execution_count": 3,
   "metadata": {},
   "outputs": [],
   "source": [
    "with open(sys.path[-1]+'/players.txt') as f:\n",
    "    mylist = [tuple(map(str, i.split(','))) for i in f]\n",
    "player_list = [(i[0].strip(\"'('\"), i[1].strip(\" )\\n'\")) for i in mylist]"
   ]
  },
  {
   "cell_type": "code",
   "execution_count": 4,
   "metadata": {},
   "outputs": [],
   "source": [
    "all_season_df = pd.read_csv(sys.path[-1]+'/all_season.csv', index_col='Unnamed: 0')"
   ]
  },
  {
   "cell_type": "code",
   "execution_count": 5,
   "metadata": {},
   "outputs": [
    {
     "data": {
      "text/plain": [
       "Index(['Season', 'Age', 'Tm', 'Lg', 'Pos', 'G', 'GS', 'MP', 'FG', 'FGA', 'FG%',\n",
       "       '3P', '3PA', '3P%', '2P', '2PA', '2P%', 'eFG%', 'FT', 'FTA', 'FT%',\n",
       "       'ORB', 'DRB', 'TRB', 'AST', 'STL', 'BLK', 'TOV', 'PF', 'PTS', 'Height',\n",
       "       'href', 'Player', 'allstar'],\n",
       "      dtype='object')"
      ]
     },
     "execution_count": 5,
     "metadata": {},
     "output_type": "execute_result"
    }
   ],
   "source": [
    "all_season_df.columns"
   ]
  },
  {
   "cell_type": "code",
   "execution_count": 6,
   "metadata": {},
   "outputs": [
    {
     "data": {
      "text/plain": [
       "range(2000, 2005)"
      ]
     },
     "execution_count": 6,
     "metadata": {},
     "output_type": "execute_result"
    }
   ],
   "source": [
    "range(2000,2005)"
   ]
  },
  {
   "cell_type": "code",
   "execution_count": 58,
   "metadata": {},
   "outputs": [
    {
     "name": "stdout",
     "output_type": "stream",
     "text": [
      "CPU times: user 1.33 s, sys: 53 ms, total: 1.39 s\n",
      "Wall time: 5.28 s\n"
     ]
    }
   ],
   "source": [
    "%%time\n",
    "allstars = []\n",
    "for year in range(2001, 2020):\n",
    "    site = 'https://www.basketball-reference.com/allstar/NBA_' + str(year) + '.html'\n",
    "    page= urllib.request.urlopen(site)\n",
    "    soup = BeautifulSoup(page, 'lxml')\n",
    "    if year == 2019:\n",
    "        for i in soup.find('table', {\"id\":'Giannis'}).find_all('a'):\n",
    "            if '/players' in i['href']:\n",
    "                allstars.append((year-1, i['href']))\n",
    "        for i in soup.find('table', {\"id\":'LeBron'}).find_all('a'):\n",
    "            if '/players' in i['href']:\n",
    "                allstars.append((year-1, i['href']))\n",
    "    elif year == 2018:\n",
    "        for i in soup.find('table', {\"id\":'Stephen'}).find_all('a'):\n",
    "            if '/players' in i['href']:\n",
    "                allstars.append((year-1, i['href']))\n",
    "        for i in soup.find('table', {\"id\":'LeBron'}).find_all('a'):\n",
    "            if '/players' in i['href']:\n",
    "                allstars.append((year-1, i['href']))\n",
    "    else:\n",
    "        for i in soup.find('table', {\"id\":'East'}).find_all('a'):\n",
    "            if '/players' in i['href']:\n",
    "                allstars.append((year-1, i['href']))\n",
    "        for i in soup.find('table', {\"id\":'West'}).find_all('a'):\n",
    "            if '/players' in i['href']:\n",
    "                allstars.append((year-1, i['href']))"
   ]
  },
  {
   "cell_type": "code",
   "execution_count": null,
   "metadata": {},
   "outputs": [],
   "source": []
  },
  {
   "cell_type": "code",
   "execution_count": 59,
   "metadata": {},
   "outputs": [],
   "source": [
    "all_season_df['allstar'] = 0"
   ]
  },
  {
   "cell_type": "code",
   "execution_count": 60,
   "metadata": {},
   "outputs": [],
   "source": [
    "# iterate through allstar_set \n",
    "for allstar in allstars:\n",
    "    all_season_df.loc[(all_season_df.Season==allstar[0]) & (all_season_df.href==allstar[1]), 'allstar'] = 1"
   ]
  },
  {
   "cell_type": "code",
   "execution_count": 61,
   "metadata": {
    "scrolled": true
   },
   "outputs": [
    {
     "data": {
      "text/plain": [
       "True"
      ]
     },
     "execution_count": 61,
     "metadata": {},
     "output_type": "execute_result"
    }
   ],
   "source": [
    "all_season_df.shape[0] == all_season_df.shape[0]"
   ]
  },
  {
   "cell_type": "markdown",
   "metadata": {},
   "source": [
    "Manually fixing players who did not play in game due to injury but were selected\n",
    "\n",
    "Fixed:\n",
    "    \n",
    "    2000: Theo Ratliff, Alonzo Mourning, Shaquille O'Neal, Grant Hill\n",
    "    2001: Karl Malone, Vince Carter\n",
    "    2002: Chris Webber\n",
    "    2003\n",
    "    2004\n",
    "    2005: Jermaine O'Neal\n",
    "    2006: Jason Kidd, Carlos Boozer, Allen Iverson, Yao Ming, Steve Nash\n",
    "    2007: Caron Butler, Kevin Garnett\n",
    "    2008: Jameer Nelson, Chris Bosh\n",
    "    2009: Kobe Bryant, Chris Paul\n",
    "    2010:\n",
    "    2011: Joe Johnson\n",
    "    2012: Rajon Rondo\n",
    "    2013: \n",
    "    2014: Dywane Wade, Blake Griffin, Anthony Davis\n",
    "    2015: Jimmy Butler\n",
    "    2016: Kevin Love\n",
    "    2017: Demarcus Cousins, Kristaps Porziņģis, John Wall\n",
    "    2018: Victor Oladipo\n",
    "    2019: \n",
    "    "
   ]
  },
  {
   "cell_type": "code",
   "execution_count": 110,
   "metadata": {
    "scrolled": true
   },
   "outputs": [],
   "source": [
    "all_season_df.iloc[[356, 357, 358, 363, 364, 365, 560, 770, 772, 776, 796,\n",
    "                    1350, 1572, 1727, 1958, \n",
    "                    2106, 2541, 2544, 2562, 2965,  \n",
    "                    3712, 3713, 3773, 3874,\n",
    "                    4916,\n",
    "                    5714, 5727, 5734, \n",
    "                    6308, 6318, 6931,\n",
    "                    7125, 7213, 7217, 7218, 7587, 7592,\n",
    "                    8242, 8266, 8478, 8525, 8564, 8745, \n",
    "                    9117,\n",
    "                    10427,\n",
    "                    11494, 11495,], -1] = 1"
   ]
  },
  {
   "cell_type": "code",
   "execution_count": 111,
   "metadata": {
    "scrolled": true
   },
   "outputs": [
    {
     "data": {
      "text/html": [
       "<div>\n",
       "<style scoped>\n",
       "    .dataframe tbody tr th:only-of-type {\n",
       "        vertical-align: middle;\n",
       "    }\n",
       "\n",
       "    .dataframe tbody tr th {\n",
       "        vertical-align: top;\n",
       "    }\n",
       "\n",
       "    .dataframe thead th {\n",
       "        text-align: right;\n",
       "    }\n",
       "</style>\n",
       "<table border=\"1\" class=\"dataframe\">\n",
       "  <thead>\n",
       "    <tr style=\"text-align: right;\">\n",
       "      <th></th>\n",
       "      <th>Season</th>\n",
       "      <th>Age</th>\n",
       "      <th>G</th>\n",
       "      <th>GS</th>\n",
       "      <th>MP</th>\n",
       "      <th>FG</th>\n",
       "      <th>FGA</th>\n",
       "      <th>FG%</th>\n",
       "      <th>3P</th>\n",
       "      <th>3PA</th>\n",
       "      <th>...</th>\n",
       "      <th>DRB</th>\n",
       "      <th>TRB</th>\n",
       "      <th>AST</th>\n",
       "      <th>STL</th>\n",
       "      <th>BLK</th>\n",
       "      <th>TOV</th>\n",
       "      <th>PF</th>\n",
       "      <th>PTS</th>\n",
       "      <th>Height</th>\n",
       "      <th>allstar</th>\n",
       "    </tr>\n",
       "  </thead>\n",
       "  <tbody>\n",
       "    <tr>\n",
       "      <th>count</th>\n",
       "      <td>11583.000000</td>\n",
       "      <td>11583.000000</td>\n",
       "      <td>11583.000000</td>\n",
       "      <td>11583.000000</td>\n",
       "      <td>11583.000000</td>\n",
       "      <td>11583.000000</td>\n",
       "      <td>11583.000000</td>\n",
       "      <td>11520.000000</td>\n",
       "      <td>11583.000000</td>\n",
       "      <td>11583.000000</td>\n",
       "      <td>...</td>\n",
       "      <td>11583.000000</td>\n",
       "      <td>11583.000000</td>\n",
       "      <td>11583.000000</td>\n",
       "      <td>11583.000000</td>\n",
       "      <td>11583.000000</td>\n",
       "      <td>11583.000000</td>\n",
       "      <td>11583.000000</td>\n",
       "      <td>11583.000000</td>\n",
       "      <td>11583.000000</td>\n",
       "      <td>11583.000000</td>\n",
       "    </tr>\n",
       "    <tr>\n",
       "      <th>mean</th>\n",
       "      <td>2009.800397</td>\n",
       "      <td>26.750065</td>\n",
       "      <td>47.019425</td>\n",
       "      <td>22.305707</td>\n",
       "      <td>19.786774</td>\n",
       "      <td>2.944867</td>\n",
       "      <td>6.629984</td>\n",
       "      <td>0.432660</td>\n",
       "      <td>0.581818</td>\n",
       "      <td>1.671709</td>\n",
       "      <td>...</td>\n",
       "      <td>2.537883</td>\n",
       "      <td>3.442459</td>\n",
       "      <td>1.756807</td>\n",
       "      <td>0.619943</td>\n",
       "      <td>0.391151</td>\n",
       "      <td>1.138557</td>\n",
       "      <td>1.788785</td>\n",
       "      <td>7.879979</td>\n",
       "      <td>78.859190</td>\n",
       "      <td>0.044893</td>\n",
       "    </tr>\n",
       "    <tr>\n",
       "      <th>std</th>\n",
       "      <td>5.714276</td>\n",
       "      <td>4.244019</td>\n",
       "      <td>26.104142</td>\n",
       "      <td>27.479464</td>\n",
       "      <td>9.919723</td>\n",
       "      <td>2.123137</td>\n",
       "      <td>4.526614</td>\n",
       "      <td>0.101015</td>\n",
       "      <td>0.683252</td>\n",
       "      <td>1.798888</td>\n",
       "      <td>...</td>\n",
       "      <td>1.767289</td>\n",
       "      <td>2.435364</td>\n",
       "      <td>1.752283</td>\n",
       "      <td>0.436054</td>\n",
       "      <td>0.461414</td>\n",
       "      <td>0.778181</td>\n",
       "      <td>0.812860</td>\n",
       "      <td>5.822418</td>\n",
       "      <td>3.609708</td>\n",
       "      <td>0.207079</td>\n",
       "    </tr>\n",
       "    <tr>\n",
       "      <th>min</th>\n",
       "      <td>2000.000000</td>\n",
       "      <td>18.000000</td>\n",
       "      <td>1.000000</td>\n",
       "      <td>0.000000</td>\n",
       "      <td>0.000000</td>\n",
       "      <td>0.000000</td>\n",
       "      <td>0.000000</td>\n",
       "      <td>0.000000</td>\n",
       "      <td>0.000000</td>\n",
       "      <td>0.000000</td>\n",
       "      <td>...</td>\n",
       "      <td>0.000000</td>\n",
       "      <td>0.000000</td>\n",
       "      <td>0.000000</td>\n",
       "      <td>0.000000</td>\n",
       "      <td>0.000000</td>\n",
       "      <td>0.000000</td>\n",
       "      <td>0.000000</td>\n",
       "      <td>0.000000</td>\n",
       "      <td>63.000000</td>\n",
       "      <td>0.000000</td>\n",
       "    </tr>\n",
       "    <tr>\n",
       "      <th>25%</th>\n",
       "      <td>2005.000000</td>\n",
       "      <td>23.000000</td>\n",
       "      <td>24.000000</td>\n",
       "      <td>0.000000</td>\n",
       "      <td>11.700000</td>\n",
       "      <td>1.300000</td>\n",
       "      <td>3.100000</td>\n",
       "      <td>0.394000</td>\n",
       "      <td>0.000000</td>\n",
       "      <td>0.100000</td>\n",
       "      <td>...</td>\n",
       "      <td>1.300000</td>\n",
       "      <td>1.700000</td>\n",
       "      <td>0.500000</td>\n",
       "      <td>0.300000</td>\n",
       "      <td>0.100000</td>\n",
       "      <td>0.600000</td>\n",
       "      <td>1.200000</td>\n",
       "      <td>3.400000</td>\n",
       "      <td>76.000000</td>\n",
       "      <td>0.000000</td>\n",
       "    </tr>\n",
       "    <tr>\n",
       "      <th>50%</th>\n",
       "      <td>2010.000000</td>\n",
       "      <td>26.000000</td>\n",
       "      <td>51.000000</td>\n",
       "      <td>8.000000</td>\n",
       "      <td>19.100000</td>\n",
       "      <td>2.400000</td>\n",
       "      <td>5.500000</td>\n",
       "      <td>0.435000</td>\n",
       "      <td>0.300000</td>\n",
       "      <td>1.100000</td>\n",
       "      <td>...</td>\n",
       "      <td>2.200000</td>\n",
       "      <td>2.900000</td>\n",
       "      <td>1.200000</td>\n",
       "      <td>0.500000</td>\n",
       "      <td>0.200000</td>\n",
       "      <td>1.000000</td>\n",
       "      <td>1.800000</td>\n",
       "      <td>6.400000</td>\n",
       "      <td>79.000000</td>\n",
       "      <td>0.000000</td>\n",
       "    </tr>\n",
       "    <tr>\n",
       "      <th>75%</th>\n",
       "      <td>2015.000000</td>\n",
       "      <td>30.000000</td>\n",
       "      <td>72.000000</td>\n",
       "      <td>41.000000</td>\n",
       "      <td>27.800000</td>\n",
       "      <td>4.100000</td>\n",
       "      <td>9.200000</td>\n",
       "      <td>0.478000</td>\n",
       "      <td>1.000000</td>\n",
       "      <td>2.800000</td>\n",
       "      <td>...</td>\n",
       "      <td>3.300000</td>\n",
       "      <td>4.600000</td>\n",
       "      <td>2.300000</td>\n",
       "      <td>0.900000</td>\n",
       "      <td>0.500000</td>\n",
       "      <td>1.500000</td>\n",
       "      <td>2.400000</td>\n",
       "      <td>11.100000</td>\n",
       "      <td>82.000000</td>\n",
       "      <td>0.000000</td>\n",
       "    </tr>\n",
       "    <tr>\n",
       "      <th>max</th>\n",
       "      <td>2019.000000</td>\n",
       "      <td>44.000000</td>\n",
       "      <td>85.000000</td>\n",
       "      <td>83.000000</td>\n",
       "      <td>43.700000</td>\n",
       "      <td>12.200000</td>\n",
       "      <td>27.800000</td>\n",
       "      <td>1.000000</td>\n",
       "      <td>5.100000</td>\n",
       "      <td>13.200000</td>\n",
       "      <td>...</td>\n",
       "      <td>12.000000</td>\n",
       "      <td>18.000000</td>\n",
       "      <td>12.800000</td>\n",
       "      <td>2.900000</td>\n",
       "      <td>6.000000</td>\n",
       "      <td>5.700000</td>\n",
       "      <td>6.000000</td>\n",
       "      <td>36.100000</td>\n",
       "      <td>90.000000</td>\n",
       "      <td>1.000000</td>\n",
       "    </tr>\n",
       "  </tbody>\n",
       "</table>\n",
       "<p>8 rows × 29 columns</p>\n",
       "</div>"
      ],
      "text/plain": [
       "             Season           Age             G            GS            MP  \\\n",
       "count  11583.000000  11583.000000  11583.000000  11583.000000  11583.000000   \n",
       "mean    2009.800397     26.750065     47.019425     22.305707     19.786774   \n",
       "std        5.714276      4.244019     26.104142     27.479464      9.919723   \n",
       "min     2000.000000     18.000000      1.000000      0.000000      0.000000   \n",
       "25%     2005.000000     23.000000     24.000000      0.000000     11.700000   \n",
       "50%     2010.000000     26.000000     51.000000      8.000000     19.100000   \n",
       "75%     2015.000000     30.000000     72.000000     41.000000     27.800000   \n",
       "max     2019.000000     44.000000     85.000000     83.000000     43.700000   \n",
       "\n",
       "                 FG           FGA           FG%            3P           3PA  \\\n",
       "count  11583.000000  11583.000000  11520.000000  11583.000000  11583.000000   \n",
       "mean       2.944867      6.629984      0.432660      0.581818      1.671709   \n",
       "std        2.123137      4.526614      0.101015      0.683252      1.798888   \n",
       "min        0.000000      0.000000      0.000000      0.000000      0.000000   \n",
       "25%        1.300000      3.100000      0.394000      0.000000      0.100000   \n",
       "50%        2.400000      5.500000      0.435000      0.300000      1.100000   \n",
       "75%        4.100000      9.200000      0.478000      1.000000      2.800000   \n",
       "max       12.200000     27.800000      1.000000      5.100000     13.200000   \n",
       "\n",
       "       ...           DRB           TRB           AST           STL  \\\n",
       "count  ...  11583.000000  11583.000000  11583.000000  11583.000000   \n",
       "mean   ...      2.537883      3.442459      1.756807      0.619943   \n",
       "std    ...      1.767289      2.435364      1.752283      0.436054   \n",
       "min    ...      0.000000      0.000000      0.000000      0.000000   \n",
       "25%    ...      1.300000      1.700000      0.500000      0.300000   \n",
       "50%    ...      2.200000      2.900000      1.200000      0.500000   \n",
       "75%    ...      3.300000      4.600000      2.300000      0.900000   \n",
       "max    ...     12.000000     18.000000     12.800000      2.900000   \n",
       "\n",
       "                BLK           TOV            PF           PTS        Height  \\\n",
       "count  11583.000000  11583.000000  11583.000000  11583.000000  11583.000000   \n",
       "mean       0.391151      1.138557      1.788785      7.879979     78.859190   \n",
       "std        0.461414      0.778181      0.812860      5.822418      3.609708   \n",
       "min        0.000000      0.000000      0.000000      0.000000     63.000000   \n",
       "25%        0.100000      0.600000      1.200000      3.400000     76.000000   \n",
       "50%        0.200000      1.000000      1.800000      6.400000     79.000000   \n",
       "75%        0.500000      1.500000      2.400000     11.100000     82.000000   \n",
       "max        6.000000      5.700000      6.000000     36.100000     90.000000   \n",
       "\n",
       "            allstar  \n",
       "count  11583.000000  \n",
       "mean       0.044893  \n",
       "std        0.207079  \n",
       "min        0.000000  \n",
       "25%        0.000000  \n",
       "50%        0.000000  \n",
       "75%        0.000000  \n",
       "max        1.000000  \n",
       "\n",
       "[8 rows x 29 columns]"
      ]
     },
     "execution_count": 111,
     "metadata": {},
     "output_type": "execute_result"
    }
   ],
   "source": [
    "all_season_df.describe()"
   ]
  },
  {
   "cell_type": "code",
   "execution_count": 113,
   "metadata": {},
   "outputs": [],
   "source": [
    "all_season_df.to_csv(sys.path[-1]+'/all_season.csv')"
   ]
  }
 ],
 "metadata": {
  "kernelspec": {
   "display_name": "Python 3",
   "language": "python",
   "name": "python3"
  },
  "language_info": {
   "codemirror_mode": {
    "name": "ipython",
    "version": 3
   },
   "file_extension": ".py",
   "mimetype": "text/x-python",
   "name": "python",
   "nbconvert_exporter": "python",
   "pygments_lexer": "ipython3",
   "version": "3.7.6"
  }
 },
 "nbformat": 4,
 "nbformat_minor": 2
}
